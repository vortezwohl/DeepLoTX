{
 "cells": [
  {
   "cell_type": "code",
   "execution_count": 3,
   "id": "initial_id",
   "metadata": {
    "collapsed": true,
    "ExecuteTime": {
     "end_time": "2025-07-31T17:14:23.287480Z",
     "start_time": "2025-07-31T17:14:19.660241Z"
    }
   },
   "outputs": [],
   "source": [
    "from deeplotx import Encoder"
   ]
  },
  {
   "cell_type": "code",
   "outputs": [
    {
     "name": "stderr",
     "output_type": "stream",
     "text": [
      "[DEBUG] 2025-08-01 01:14:28,336 deeplotx.embedding : Encoder initialized on device: cpu.\n"
     ]
    }
   ],
   "source": [
    "encoder = Encoder()"
   ],
   "metadata": {
    "collapsed": false,
    "ExecuteTime": {
     "end_time": "2025-07-31T17:14:28.351012Z",
     "start_time": "2025-07-31T17:14:23.289486Z"
    }
   },
   "id": "6968d9e50724c441",
   "execution_count": 4
  },
  {
   "cell_type": "code",
   "outputs": [],
   "source": [
    "text_en = 'Hello there, this is a test sentence, I am Vortez.'\n",
    "text_zh = '你好，这是一个测试用例, 我叫吴子豪.'"
   ],
   "metadata": {
    "collapsed": false,
    "ExecuteTime": {
     "end_time": "2025-07-31T17:15:11.691756Z",
     "start_time": "2025-07-31T17:15:11.681221Z"
    }
   },
   "id": "bdf388453770ecc4",
   "execution_count": 10
  },
  {
   "cell_type": "code",
   "outputs": [
    {
     "data": {
      "text/plain": "({'input_ids': [0, 35378, 2685, 4, 903, 83, 10, 3034, 149357, 4, 87, 444, 4855, 19544, 5, 2], 'attention_mask': [1, 1, 1, 1, 1, 1, 1, 1, 1, 1, 1, 1, 1, 1, 1, 1], 'offset_mapping': [(0, 0), (0, 5), (6, 11), (11, 12), (13, 17), (18, 20), (21, 22), (23, 27), (28, 36), (36, 37), (38, 39), (40, 42), (43, 46), (46, 49), (49, 50), (0, 0)]},\n {'input_ids': [0, 6, 124084, 4, 100013, 49125, 1173, 13506, 4, 13129, 10050, 47374, 1344, 34101, 5, 2], 'attention_mask': [1, 1, 1, 1, 1, 1, 1, 1, 1, 1, 1, 1, 1, 1, 1, 1], 'offset_mapping': [(0, 0), (0, 1), (0, 2), (2, 3), (3, 7), (7, 9), (9, 10), (10, 11), (11, 12), (13, 14), (14, 15), (15, 16), (16, 17), (17, 18), (18, 19), (0, 0)]})"
     },
     "execution_count": 17,
     "metadata": {},
     "output_type": "execute_result"
    }
   ],
   "source": [
    "token_en_ids = encoder.tokenizer(text_en, return_offsets_mapping=True)\n",
    "token_zh_ids = encoder.tokenizer(text_zh, return_offsets_mapping=True)\n",
    "token_en_ids, token_zh_ids"
   ],
   "metadata": {
    "collapsed": false,
    "ExecuteTime": {
     "end_time": "2025-07-31T17:19:07.142064Z",
     "start_time": "2025-07-31T17:19:07.132514Z"
    }
   },
   "id": "c7de4749d5c9e3e",
   "execution_count": 17
  },
  {
   "cell_type": "code",
   "outputs": [
    {
     "name": "stdout",
     "output_type": "stream",
     "text": [
      "['<s>', 'Hello', 'there', ',', 'this', 'is', 'a', 'test', 'sentence', ',', 'I', 'am', 'Vor', 'tez', '.', '</s>']\n",
      "['<s>', '', '你好', ',', '这是一个', '测试', '用', '例', ',', '我', '叫', '吴', '子', '豪', '.', '</s>']\n"
     ]
    }
   ],
   "source": [
    "token_en_text = [encoder.tokenizer.decode([token]) for token in token_en_ids['input_ids']]\n",
    "token_zh_text = [encoder.tokenizer.decode([token]) for token in token_zh_ids['input_ids']]\n",
    "print(token_en_text)\n",
    "print(token_zh_text)"
   ],
   "metadata": {
    "collapsed": false,
    "ExecuteTime": {
     "end_time": "2025-07-31T17:25:51.567560Z",
     "start_time": "2025-07-31T17:25:51.554931Z"
    }
   },
   "id": "cb4e191b3c360dfa",
   "execution_count": 25
  },
  {
   "cell_type": "code",
   "outputs": [
    {
     "data": {
      "text/plain": "['你好', '，', '这是', '一个', '测试用例', ',', ' ', '我', '叫', '吴子', '豪', '.']"
     },
     "execution_count": 15,
     "metadata": {},
     "output_type": "execute_result"
    }
   ],
   "source": [
    "import jieba\n",
    "text_zh_cut = jieba.lcut(text_zh, cut_all=False)\n",
    "text_zh_cut"
   ],
   "metadata": {
    "collapsed": false,
    "ExecuteTime": {
     "end_time": "2025-07-31T17:17:42.661375Z",
     "start_time": "2025-07-31T17:17:42.652861Z"
    }
   },
   "id": "43f0e1c9945b3086",
   "execution_count": 15
  }
 ],
 "metadata": {
  "kernelspec": {
   "display_name": "Python 3",
   "language": "python",
   "name": "python3"
  },
  "language_info": {
   "codemirror_mode": {
    "name": "ipython",
    "version": 2
   },
   "file_extension": ".py",
   "mimetype": "text/x-python",
   "name": "python",
   "nbconvert_exporter": "python",
   "pygments_lexer": "ipython2",
   "version": "2.7.6"
  }
 },
 "nbformat": 4,
 "nbformat_minor": 5
}
