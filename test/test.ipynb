{
 "cells": [
  {
   "cell_type": "code",
   "outputs": [
    {
     "name": "stderr",
     "output_type": "stream",
     "text": [
      "[DEBUG] 2025-07-23 17:26:25,196 deeplotx.embedding : BertEncoder initialized on device: cpu.\n"
     ]
    }
   ],
   "source": [
    "from deeplotx import TextBinaryClassifierTrainer, LongTextEncoder\n",
    "\n",
    "long_text_encoder = LongTextEncoder(\n",
    "    max_length=2048,\n",
    "    chunk_size=448,\n",
    "    overlapping=32\n",
    ")\n",
    "\n",
    "trainer = TextBinaryClassifierTrainer(\n",
    "    long_text_encoder=long_text_encoder,\n",
    "    batch_size=2,\n",
    "    train_ratio=0.9\n",
    ")"
   ],
   "metadata": {
    "collapsed": false,
    "ExecuteTime": {
     "end_time": "2025-07-23T09:26:25.212785Z",
     "start_time": "2025-07-23T09:25:51.523Z"
    }
   },
   "id": "8b441028a169b686",
   "execution_count": 1
  },
  {
   "cell_type": "code",
   "outputs": [
    {
     "name": "stderr",
     "output_type": "stream",
     "text": [
      "[DEBUG] 2025-07-23 17:26:25,286 deeplotx.embedding : Embedding \"#章节 01某天喝多，我把不苟言笑，禁欲系的老板当成了白月光。一觉醒来，我紧张问：「昨天……我们……」他答：「怎么，江秘书不打算负责？」我觉得我要死了，肯定要被炒鱿鱼了，可老板却说放我一周的假让我好好休息休息。一周后他把我堵墙角，问道：「给了你一周时间，想...\".\n",
      "Token indices sequence length is longer than the specified maximum sequence length for this model (24694 > 512). Running this sequence through the model will result in indexing errors\n",
      "[DEBUG] 2025-07-23 17:26:29,016 deeplotx.embedding : Embedding \"《一介替身》人人嫉妒我只是一介替身，却能稳坐探花郎夫人之位。闻言我内心苦涩，表面仍旧操持着偌大的沈府。我意外失去孩子的那日，沈尧瑾还在花楼之上搂着美娇娘风花雪月。我主动送去了那纸和离书。「你不过是月娘的替身罢了，若不是你有几分像她，我怎么会娶你？」「替身就...\".\n",
      "[DEBUG] 2025-07-23 17:26:32,991 deeplotx.trainer : Epoch 1/36 | Train Loss: 4.8806 | Valid Loss: 4.6721\n",
      "[DEBUG] 2025-07-23 17:26:33,120 deeplotx.trainer : Epoch 2/36 | Train Loss: 4.7995\n",
      "[DEBUG] 2025-07-23 17:26:33,244 deeplotx.trainer : Epoch 3/36 | Train Loss: 4.7731\n",
      "[DEBUG] 2025-07-23 17:26:33,398 deeplotx.trainer : Epoch 4/36 | Train Loss: 4.7475 | Valid Loss: 4.7384\n",
      "[DEBUG] 2025-07-23 17:26:33,503 deeplotx.trainer : Epoch 5/36 | Train Loss: 4.7917\n",
      "[DEBUG] 2025-07-23 17:26:33,644 deeplotx.trainer : Epoch 6/36 | Train Loss: 4.6847\n",
      "[DEBUG] 2025-07-23 17:26:33,778 deeplotx.trainer : Epoch 7/36 | Train Loss: 4.6816 | Valid Loss: 4.7970\n",
      "[DEBUG] 2025-07-23 17:26:33,894 deeplotx.trainer : Epoch 8/36 | Train Loss: 4.7760\n",
      "[DEBUG] 2025-07-23 17:26:34,012 deeplotx.trainer : Epoch 9/36 | Train Loss: 4.7357\n",
      "[DEBUG] 2025-07-23 17:26:34,154 deeplotx.trainer : Epoch 10/36 | Train Loss: 4.6797 | Valid Loss: 4.8512\n",
      "[DEBUG] 2025-07-23 17:26:34,272 deeplotx.trainer : Epoch 11/36 | Train Loss: 4.6214\n",
      "[DEBUG] 2025-07-23 17:26:34,398 deeplotx.trainer : Epoch 12/36 | Train Loss: 4.6527\n",
      "[DEBUG] 2025-07-23 17:26:34,528 deeplotx.trainer : Epoch 13/36 | Train Loss: 4.6137 | Valid Loss: 4.8910\n",
      "[DEBUG] 2025-07-23 17:26:34,633 deeplotx.trainer : Epoch 14/36 | Train Loss: 4.6375\n",
      "[DEBUG] 2025-07-23 17:26:34,755 deeplotx.trainer : Epoch 15/36 | Train Loss: 4.6553\n",
      "[DEBUG] 2025-07-23 17:26:34,898 deeplotx.trainer : Epoch 16/36 | Train Loss: 4.5674 | Valid Loss: 4.9272\n",
      "[DEBUG] 2025-07-23 17:26:35,021 deeplotx.trainer : Epoch 17/36 | Train Loss: 4.6022\n",
      "[DEBUG] 2025-07-23 17:26:35,186 deeplotx.trainer : Epoch 18/36 | Train Loss: 4.6275\n",
      "[DEBUG] 2025-07-23 17:26:35,350 deeplotx.trainer : Epoch 19/36 | Train Loss: 4.5843 | Valid Loss: 4.9545\n",
      "[DEBUG] 2025-07-23 17:26:35,483 deeplotx.trainer : Epoch 20/36 | Train Loss: 4.5616\n",
      "[DEBUG] 2025-07-23 17:26:35,613 deeplotx.trainer : Epoch 21/36 | Train Loss: 4.5315\n",
      "[DEBUG] 2025-07-23 17:26:35,758 deeplotx.trainer : Epoch 22/36 | Train Loss: 4.5358 | Valid Loss: 4.9863\n",
      "[DEBUG] 2025-07-23 17:26:35,922 deeplotx.trainer : Epoch 23/36 | Train Loss: 4.5075\n",
      "[DEBUG] 2025-07-23 17:26:36,180 deeplotx.trainer : Epoch 24/36 | Train Loss: 4.4751\n",
      "[DEBUG] 2025-07-23 17:26:36,337 deeplotx.trainer : Epoch 25/36 | Train Loss: 4.6052 | Valid Loss: 5.0191\n",
      "[DEBUG] 2025-07-23 17:26:36,454 deeplotx.trainer : Epoch 26/36 | Train Loss: 4.5741\n",
      "[DEBUG] 2025-07-23 17:26:36,580 deeplotx.trainer : Epoch 27/36 | Train Loss: 4.4749\n",
      "[DEBUG] 2025-07-23 17:26:36,728 deeplotx.trainer : Epoch 28/36 | Train Loss: 4.4800 | Valid Loss: 5.0484\n",
      "[DEBUG] 2025-07-23 17:26:36,863 deeplotx.trainer : Epoch 29/36 | Train Loss: 4.5076\n",
      "[DEBUG] 2025-07-23 17:26:37,018 deeplotx.trainer : Epoch 30/36 | Train Loss: 4.5771\n",
      "[DEBUG] 2025-07-23 17:26:37,158 deeplotx.trainer : Epoch 31/36 | Train Loss: 4.5117 | Valid Loss: 5.0795\n",
      "[DEBUG] 2025-07-23 17:26:37,280 deeplotx.trainer : Epoch 32/36 | Train Loss: 4.4474\n",
      "[DEBUG] 2025-07-23 17:26:37,420 deeplotx.trainer : Epoch 33/36 | Train Loss: 4.5316\n",
      "[DEBUG] 2025-07-23 17:26:37,568 deeplotx.trainer : Epoch 34/36 | Train Loss: 4.5255 | Valid Loss: 5.1083\n",
      "[DEBUG] 2025-07-23 17:26:37,698 deeplotx.trainer : Epoch 35/36 | Train Loss: 4.4632\n",
      "[DEBUG] 2025-07-23 17:26:37,830 deeplotx.trainer : Epoch 36/36 | Train Loss: 4.5133\n"
     ]
    }
   ],
   "source": [
    "from deeplotx.util import get_files, read_file\n",
    "\n",
    "pos_data_path = './data/pos'\n",
    "neg_data_path = './data/neg'\n",
    "pos_data = [read_file(x) for x in get_files(pos_data_path)]\n",
    "neg_data = [read_file(x) for x in get_files(neg_data_path)]\n",
    "model = trainer.train(pos_data, neg_data, \n",
    "                      num_epochs=36, learning_rate=2e-5, \n",
    "                      balancing_dataset=True, alpha=1e-4, \n",
    "                      rho=.2, hidden_dim=256, \n",
    "                      recursive_layers=2)"
   ],
   "metadata": {
    "collapsed": false,
    "ExecuteTime": {
     "end_time": "2025-07-23T09:26:37.838891Z",
     "start_time": "2025-07-23T09:26:25.214778Z"
    }
   },
   "id": "3a4c4e31623b24e4",
   "execution_count": 2
  },
  {
   "cell_type": "code",
   "outputs": [
    {
     "data": {
      "text/plain": "LongContextRecursiveSequential(\n  (lstm): LSTM(768, 256, num_layers=2, batch_first=True, bidirectional=True)\n  (regressive_head): LinearRegression(\n    (fc1): Linear(in_features=512, out_features=1024, bias=True)\n    (fc1_to_fc4_res): Linear(in_features=1024, out_features=64, bias=True)\n    (fc2): Linear(in_features=1024, out_features=768, bias=True)\n    (fc3): Linear(in_features=768, out_features=128, bias=True)\n    (fc4): Linear(in_features=128, out_features=64, bias=True)\n    (fc5): Linear(in_features=64, out_features=1, bias=True)\n    (parametric_relu_1): PReLU(num_parameters=1)\n    (parametric_relu_2): PReLU(num_parameters=1)\n    (parametric_relu_3): PReLU(num_parameters=1)\n    (parametric_relu_4): PReLU(num_parameters=1)\n  )\n  (self_attention): SelfAttention(\n    (q_proj): Linear(in_features=768, out_features=768, bias=True)\n    (k_proj): Linear(in_features=768, out_features=768, bias=True)\n    (v_proj): Linear(in_features=768, out_features=768, bias=True)\n  )\n  (proj): Linear(in_features=1536, out_features=768, bias=True)\n)"
     },
     "execution_count": 3,
     "metadata": {},
     "output_type": "execute_result"
    }
   ],
   "source": [
    "model.save(model_name='test', model_dir='model')"
   ],
   "metadata": {
    "collapsed": false,
    "ExecuteTime": {
     "end_time": "2025-07-23T09:26:37.900893Z",
     "start_time": "2025-07-23T09:26:37.840892Z"
    }
   },
   "id": "fae72c7ed78dd895",
   "execution_count": 3
  },
  {
   "cell_type": "code",
   "outputs": [
    {
     "name": "stderr",
     "output_type": "stream",
     "text": [
      "[DEBUG] 2025-07-23 17:26:37,931 deeplotx.embedding : Embedding \"这是一个测试文本.\".\n"
     ]
    },
    {
     "data": {
      "text/plain": "tensor([[-0.1495]])"
     },
     "execution_count": 4,
     "metadata": {},
     "output_type": "execute_result"
    }
   ],
   "source": [
    "model = model.load(model_name='test', model_dir='model')\n",
    "model.predict(long_text_encoder.encode('这是一个测试文本.', flatten=False))"
   ],
   "metadata": {
    "collapsed": false,
    "ExecuteTime": {
     "end_time": "2025-07-23T09:26:42.362082Z",
     "start_time": "2025-07-23T09:26:37.902893Z"
    }
   },
   "id": "daf8dad84526a6a7",
   "execution_count": 4
  }
 ],
 "metadata": {
  "kernelspec": {
   "display_name": "Python 3",
   "language": "python",
   "name": "python3"
  },
  "language_info": {
   "codemirror_mode": {
    "name": "ipython",
    "version": 2
   },
   "file_extension": ".py",
   "mimetype": "text/x-python",
   "name": "python",
   "nbconvert_exporter": "python",
   "pygments_lexer": "ipython2",
   "version": "2.7.6"
  }
 },
 "nbformat": 4,
 "nbformat_minor": 5
}
