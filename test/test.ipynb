{
 "cells": [
  {
   "cell_type": "code",
   "outputs": [],
   "source": [
    "from deeplotx import TextBinaryClassifierTrainer, LongTextEncoder\n",
    "\n",
    "long_text_encoder = LongTextEncoder(\n",
    "    max_length=2048,\n",
    "    chunk_size=448,\n",
    "    overlapping=32\n",
    ")\n",
    "\n",
    "trainer = TextBinaryClassifierTrainer(\n",
    "    long_text_encoder=long_text_encoder,\n",
    "    batch_size=2,\n",
    "    train_ratio=0.9\n",
    ")"
   ],
   "metadata": {
    "collapsed": false
   },
   "id": "8b441028a169b686",
   "execution_count": null
  },
  {
   "cell_type": "code",
   "outputs": [],
   "source": [
    "from deeplotx.util import get_files, read_file\n",
    "\n",
    "pos_data_path = './data/pos'\n",
    "neg_data_path = './data/neg'\n",
    "pos_data = [read_file(x) for x in get_files(pos_data_path)]\n",
    "neg_data = [read_file(x) for x in get_files(neg_data_path)]\n",
    "model = trainer.train(pos_data, neg_data, num_epochs=36, learning_rate=2e-5, train_loss_threshold=0)"
   ],
   "metadata": {
    "collapsed": false
   },
   "id": "3a4c4e31623b24e4",
   "execution_count": null
  },
  {
   "cell_type": "code",
   "outputs": [],
   "source": [
    "model.save()"
   ],
   "metadata": {
    "collapsed": false
   },
   "id": "fae72c7ed78dd895",
   "execution_count": null
  },
  {
   "cell_type": "code",
   "outputs": [],
   "source": [
    "model = model.load()\n",
    "model.predict(long_text_encoder.encode('这是一个测试文本.', flatten=False))"
   ],
   "metadata": {
    "collapsed": false
   },
   "id": "daf8dad84526a6a7",
   "execution_count": null
  }
 ],
 "metadata": {
  "kernelspec": {
   "display_name": "Python 3",
   "language": "python",
   "name": "python3"
  },
  "language_info": {
   "codemirror_mode": {
    "name": "ipython",
    "version": 2
   },
   "file_extension": ".py",
   "mimetype": "text/x-python",
   "name": "python",
   "nbconvert_exporter": "python",
   "pygments_lexer": "ipython2",
   "version": "2.7.6"
  }
 },
 "nbformat": 4,
 "nbformat_minor": 5
}
