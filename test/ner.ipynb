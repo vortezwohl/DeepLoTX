{
 "cells": [
  {
   "cell_type": "code",
   "execution_count": 19,
   "id": "initial_id",
   "metadata": {
    "collapsed": true,
    "ExecuteTime": {
     "end_time": "2025-08-04T10:18:59.633086Z",
     "start_time": "2025-08-04T10:18:56.561410Z"
    }
   },
   "outputs": [
    {
     "name": "stderr",
     "output_type": "stream",
     "text": [
      "Device set to use cpu\n",
      "[DEBUG] 2025-08-04 18:18:59,155 deeplotx.ner : BaseNER initialized on device: cpu.\n"
     ]
    }
   ],
   "source": [
    "from deeplotx import BertNER, Name2Gender\n",
    "\n",
    "ner = BertNER()\n",
    "n2g = Name2Gender()"
   ]
  },
  {
   "cell_type": "code",
   "outputs": [
    {
     "data": {
      "text/plain": "[NamedPerson(text='吴子豪', type='PER', base_probability=0.9995391475414932, gender=<Gender.Male: 'male'>, gender_probability=0.9970703125),\n NamedEntity(text='福州', type='LOC', base_probability=0.9997788071632385)]"
     },
     "execution_count": 20,
     "metadata": {},
     "output_type": "execute_result"
    }
   ],
   "source": [
    "ner('你好, 我的名字是吴子豪, 来自福州.')"
   ],
   "metadata": {
    "collapsed": false,
    "ExecuteTime": {
     "end_time": "2025-08-04T10:18:59.754077Z",
     "start_time": "2025-08-04T10:18:59.634077Z"
    }
   },
   "id": "f6a6a57a64e2e06",
   "execution_count": 20
  },
  {
   "cell_type": "code",
   "outputs": [
    {
     "data": {
      "text/plain": "<Gender.Male: 'male'>"
     },
     "execution_count": 21,
     "metadata": {},
     "output_type": "execute_result"
    }
   ],
   "source": [
    "n2g('吴子豪')"
   ],
   "metadata": {
    "collapsed": false,
    "ExecuteTime": {
     "end_time": "2025-08-04T10:18:59.800085Z",
     "start_time": "2025-08-04T10:18:59.755080Z"
    }
   },
   "id": "8c58264c20c00141",
   "execution_count": 21
  }
 ],
 "metadata": {
  "kernelspec": {
   "display_name": "Python 3",
   "language": "python",
   "name": "python3"
  },
  "language_info": {
   "codemirror_mode": {
    "name": "ipython",
    "version": 2
   },
   "file_extension": ".py",
   "mimetype": "text/x-python",
   "name": "python",
   "nbconvert_exporter": "python",
   "pygments_lexer": "ipython2",
   "version": "2.7.6"
  }
 },
 "nbformat": 4,
 "nbformat_minor": 5
}
