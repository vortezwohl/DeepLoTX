{
 "cells": [
  {
   "cell_type": "code",
   "execution_count": 19,
   "id": "initial_id",
   "metadata": {
    "collapsed": true,
    "ExecuteTime": {
     "end_time": "2025-08-04T10:18:59.633086Z",
     "start_time": "2025-08-04T10:18:56.561410Z"
    }
   },
   "outputs": [
    {
     "name": "stderr",
     "output_type": "stream",
     "text": [
      "Device set to use cpu\n",
      "[DEBUG] 2025-08-04 18:18:59,155 deeplotx.ner : BaseNER initialized on device: cpu.\n"
     ]
    }
   ],
   "source": [
    "from deeplotx import BertNER, Name2Gender\n",
    "\n",
    "ner = BertNER()\n",
    "n2g = Name2Gender()"
   ]
  },
  {
   "cell_type": "code",
   "outputs": [
    {
     "data": {
      "text/plain": "[NamedPerson(text='吴子豪', type='PER', base_probability=0.9995428418719051, gender=<Gender.Male: 'male'>, gender_probability=0.9970703125),\n NamedEntity(text='福建', type='LOC', base_probability=0.9986373782157898),\n NamedEntity(text='福州', type='LOC', base_probability=0.9993632435798645)]"
     },
     "execution_count": 23,
     "metadata": {},
     "output_type": "execute_result"
    }
   ],
   "source": [
    "ner('你好, 我的名字是吴子豪, 来自福建福州.')"
   ],
   "metadata": {
    "collapsed": false,
    "ExecuteTime": {
     "end_time": "2025-08-04T10:33:45.615287Z",
     "start_time": "2025-08-04T10:33:45.528281Z"
    }
   },
   "id": "f6a6a57a64e2e06",
   "execution_count": 23
  },
  {
   "cell_type": "code",
   "outputs": [
    {
     "data": {
      "text/plain": "[NamedPerson(text='Vortez Wohl', type='PER', base_probability=0.9991965342072855, gender=<Gender.Male: 'male'>, gender_probability=0.87255859375)]"
     },
     "execution_count": 25,
     "metadata": {},
     "output_type": "execute_result"
    }
   ],
   "source": [
    "ner(\"Hi, i'm Vortez Wohl, author of DeeploTX.\")"
   ],
   "metadata": {
    "collapsed": false,
    "ExecuteTime": {
     "end_time": "2025-08-04T10:36:54.686335Z",
     "start_time": "2025-08-04T10:36:54.602216Z"
    }
   },
   "id": "c476888fc93199fa",
   "execution_count": 25
  },
  {
   "cell_type": "code",
   "outputs": [
    {
     "data": {
      "text/plain": "(<Gender.Male: 'male'>, 1.0)"
     },
     "execution_count": 31,
     "metadata": {},
     "output_type": "execute_result"
    }
   ],
   "source": [
    "n2g('吴彦祖', return_probability=True)"
   ],
   "metadata": {
    "collapsed": false,
    "ExecuteTime": {
     "end_time": "2025-08-04T10:41:21.217867Z",
     "start_time": "2025-08-04T10:41:21.176862Z"
    }
   },
   "id": "8c58264c20c00141",
   "execution_count": 31
  }
 ],
 "metadata": {
  "kernelspec": {
   "display_name": "Python 3",
   "language": "python",
   "name": "python3"
  },
  "language_info": {
   "codemirror_mode": {
    "name": "ipython",
    "version": 2
   },
   "file_extension": ".py",
   "mimetype": "text/x-python",
   "name": "python",
   "nbconvert_exporter": "python",
   "pygments_lexer": "ipython2",
   "version": "2.7.6"
  }
 },
 "nbformat": 4,
 "nbformat_minor": 5
}
